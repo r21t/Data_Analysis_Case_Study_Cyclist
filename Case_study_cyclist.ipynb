{
 "cells": [
  {
   "cell_type": "markdown",
   "metadata": {},
   "source": [
    "# IMPORTING DATA"
   ]
  },
  {
   "cell_type": "code",
   "execution_count": 108,
   "metadata": {},
   "outputs": [],
   "source": [
    "import pandas as pd  # used for data manipulation and data cleaning\n",
    "import numpy as np   # can be used for array's\n",
    "import glob\n",
    "import seaborn as sb  # used for plotting great visualizations\n",
    "import matplotlib.pyplot as plt   # Used for plot creatioins and some plots."
   ]
  },
  {
   "cell_type": "code",
   "execution_count": 67,
   "metadata": {},
   "outputs": [],
   "source": [
    "# importing all the files present in the path.\n",
    "\n",
    "#https://stackoverflow.com/questions/20906474/import-multiple-csv-files-into-pandas-and-concatenate-into-one-dataframe    -- source for thee code below.\n",
    "\n",
    "path = r'C:\\Users\\RaviTeja\\Desktop\\Learnings_Materials_Certifications\\case studies\\Case_Study_cyclist_data\\csv_files' # use your path\n",
    "all_files = glob.glob(path + \"/*.csv\")\n",
    "\n",
    "li = []\n",
    "\n",
    "for filename in all_files:\n",
    "    df = pd.read_csv(filename, index_col=None, header=0)\n",
    "    li.append(df)\n",
    "\n",
    "df = pd.concat(li, axis=0, ignore_index=True)"
   ]
  },
  {
   "cell_type": "code",
   "execution_count": 68,
   "metadata": {},
   "outputs": [
    {
     "data": {
      "text/html": [
       "<div>\n",
       "<style scoped>\n",
       "    .dataframe tbody tr th:only-of-type {\n",
       "        vertical-align: middle;\n",
       "    }\n",
       "\n",
       "    .dataframe tbody tr th {\n",
       "        vertical-align: top;\n",
       "    }\n",
       "\n",
       "    .dataframe thead th {\n",
       "        text-align: right;\n",
       "    }\n",
       "</style>\n",
       "<table border=\"1\" class=\"dataframe\">\n",
       "  <thead>\n",
       "    <tr style=\"text-align: right;\">\n",
       "      <th></th>\n",
       "      <th>ride_id</th>\n",
       "      <th>rideable_type</th>\n",
       "      <th>started_at</th>\n",
       "      <th>ended_at</th>\n",
       "      <th>Ride_time</th>\n",
       "      <th>Day_of_week</th>\n",
       "      <th>start_station_name</th>\n",
       "      <th>start_station_id</th>\n",
       "      <th>end_station_name</th>\n",
       "      <th>end_station_id</th>\n",
       "      <th>start_lat</th>\n",
       "      <th>start_lng</th>\n",
       "      <th>end_lat</th>\n",
       "      <th>end_lng</th>\n",
       "      <th>member_casual</th>\n",
       "    </tr>\n",
       "  </thead>\n",
       "  <tbody>\n",
       "    <tr>\n",
       "      <th>0</th>\n",
       "      <td>E771D6B798F54371</td>\n",
       "      <td>docked_bike</td>\n",
       "      <td>03-06-2020 05:59</td>\n",
       "      <td>03-06-2020 06:11</td>\n",
       "      <td>00:11:17</td>\n",
       "      <td>4</td>\n",
       "      <td>Ashland Ave &amp; Lake St</td>\n",
       "      <td>119</td>\n",
       "      <td>Walsh Park</td>\n",
       "      <td>628</td>\n",
       "      <td>41.885920</td>\n",
       "      <td>-87.667170</td>\n",
       "      <td>41.914610</td>\n",
       "      <td>-87.667968</td>\n",
       "      <td>member</td>\n",
       "    </tr>\n",
       "    <tr>\n",
       "      <th>1</th>\n",
       "      <td>B29C30CFA0072B25</td>\n",
       "      <td>docked_bike</td>\n",
       "      <td>03-06-2020 06:00</td>\n",
       "      <td>03-06-2020 06:03</td>\n",
       "      <td>00:03:25</td>\n",
       "      <td>4</td>\n",
       "      <td>Larrabee St &amp; Webster Ave</td>\n",
       "      <td>144</td>\n",
       "      <td>Halsted St &amp; Wrightwood Ave</td>\n",
       "      <td>349</td>\n",
       "      <td>41.921822</td>\n",
       "      <td>-87.644140</td>\n",
       "      <td>41.929143</td>\n",
       "      <td>-87.649077</td>\n",
       "      <td>member</td>\n",
       "    </tr>\n",
       "    <tr>\n",
       "      <th>2</th>\n",
       "      <td>90058C0761C4E45F</td>\n",
       "      <td>docked_bike</td>\n",
       "      <td>03-06-2020 06:00</td>\n",
       "      <td>03-06-2020 06:12</td>\n",
       "      <td>00:11:55</td>\n",
       "      <td>4</td>\n",
       "      <td>Halsted St &amp; Dickens Ave</td>\n",
       "      <td>225</td>\n",
       "      <td>Clark St &amp; Grace St</td>\n",
       "      <td>165</td>\n",
       "      <td>41.919936</td>\n",
       "      <td>-87.648830</td>\n",
       "      <td>41.950780</td>\n",
       "      <td>-87.659172</td>\n",
       "      <td>member</td>\n",
       "    </tr>\n",
       "    <tr>\n",
       "      <th>3</th>\n",
       "      <td>4AFF9415DF507565</td>\n",
       "      <td>docked_bike</td>\n",
       "      <td>03-06-2020 06:00</td>\n",
       "      <td>03-06-2020 06:13</td>\n",
       "      <td>00:12:52</td>\n",
       "      <td>4</td>\n",
       "      <td>Eckhart Park</td>\n",
       "      <td>86</td>\n",
       "      <td>Mies van der Rohe Way &amp; Chicago Ave</td>\n",
       "      <td>173</td>\n",
       "      <td>41.896373</td>\n",
       "      <td>-87.660983</td>\n",
       "      <td>41.896910</td>\n",
       "      <td>-87.621743</td>\n",
       "      <td>member</td>\n",
       "    </tr>\n",
       "    <tr>\n",
       "      <th>4</th>\n",
       "      <td>6D14690F7A61AD88</td>\n",
       "      <td>docked_bike</td>\n",
       "      <td>03-06-2020 06:00</td>\n",
       "      <td>03-06-2020 06:32</td>\n",
       "      <td>00:31:30</td>\n",
       "      <td>4</td>\n",
       "      <td>Halsted St &amp; Dickens Ave</td>\n",
       "      <td>225</td>\n",
       "      <td>Halsted St &amp; Dickens Ave</td>\n",
       "      <td>225</td>\n",
       "      <td>41.919936</td>\n",
       "      <td>-87.648830</td>\n",
       "      <td>41.919936</td>\n",
       "      <td>-87.648830</td>\n",
       "      <td>casual</td>\n",
       "    </tr>\n",
       "  </tbody>\n",
       "</table>\n",
       "</div>"
      ],
      "text/plain": [
       "            ride_id rideable_type        started_at          ended_at  \\\n",
       "0  E771D6B798F54371   docked_bike  03-06-2020 05:59  03-06-2020 06:11   \n",
       "1  B29C30CFA0072B25   docked_bike  03-06-2020 06:00  03-06-2020 06:03   \n",
       "2  90058C0761C4E45F   docked_bike  03-06-2020 06:00  03-06-2020 06:12   \n",
       "3  4AFF9415DF507565   docked_bike  03-06-2020 06:00  03-06-2020 06:13   \n",
       "4  6D14690F7A61AD88   docked_bike  03-06-2020 06:00  03-06-2020 06:32   \n",
       "\n",
       "  Ride_time  Day_of_week         start_station_name start_station_id  \\\n",
       "0  00:11:17            4      Ashland Ave & Lake St              119   \n",
       "1  00:03:25            4  Larrabee St & Webster Ave              144   \n",
       "2  00:11:55            4   Halsted St & Dickens Ave              225   \n",
       "3  00:12:52            4               Eckhart Park               86   \n",
       "4  00:31:30            4   Halsted St & Dickens Ave              225   \n",
       "\n",
       "                      end_station_name end_station_id  start_lat  start_lng  \\\n",
       "0                           Walsh Park            628  41.885920 -87.667170   \n",
       "1          Halsted St & Wrightwood Ave            349  41.921822 -87.644140   \n",
       "2                  Clark St & Grace St            165  41.919936 -87.648830   \n",
       "3  Mies van der Rohe Way & Chicago Ave            173  41.896373 -87.660983   \n",
       "4             Halsted St & Dickens Ave            225  41.919936 -87.648830   \n",
       "\n",
       "     end_lat    end_lng member_casual  \n",
       "0  41.914610 -87.667968        member  \n",
       "1  41.929143 -87.649077        member  \n",
       "2  41.950780 -87.659172        member  \n",
       "3  41.896910 -87.621743        member  \n",
       "4  41.919936 -87.648830        casual  "
      ]
     },
     "execution_count": 68,
     "metadata": {},
     "output_type": "execute_result"
    }
   ],
   "source": [
    "df.head() # gettng the top 5 rows to see if the data is imported correctly"
   ]
  },
  {
   "cell_type": "code",
   "execution_count": 69,
   "metadata": {},
   "outputs": [
    {
     "data": {
      "text/html": [
       "<div>\n",
       "<style scoped>\n",
       "    .dataframe tbody tr th:only-of-type {\n",
       "        vertical-align: middle;\n",
       "    }\n",
       "\n",
       "    .dataframe tbody tr th {\n",
       "        vertical-align: top;\n",
       "    }\n",
       "\n",
       "    .dataframe thead th {\n",
       "        text-align: right;\n",
       "    }\n",
       "</style>\n",
       "<table border=\"1\" class=\"dataframe\">\n",
       "  <thead>\n",
       "    <tr style=\"text-align: right;\">\n",
       "      <th></th>\n",
       "      <th>ride_id</th>\n",
       "      <th>rideable_type</th>\n",
       "      <th>started_at</th>\n",
       "      <th>ended_at</th>\n",
       "      <th>Ride_time</th>\n",
       "      <th>Day_of_week</th>\n",
       "      <th>start_station_name</th>\n",
       "      <th>start_station_id</th>\n",
       "      <th>end_station_name</th>\n",
       "      <th>end_station_id</th>\n",
       "      <th>start_lat</th>\n",
       "      <th>start_lng</th>\n",
       "      <th>end_lat</th>\n",
       "      <th>end_lng</th>\n",
       "      <th>member_casual</th>\n",
       "    </tr>\n",
       "  </thead>\n",
       "  <tbody>\n",
       "    <tr>\n",
       "      <th>4073556</th>\n",
       "      <td>1C15BF0D39FD953B</td>\n",
       "      <td>electric_bike</td>\n",
       "      <td>31-05-2021 23:57</td>\n",
       "      <td>01-06-2021 00:06</td>\n",
       "      <td>00:09:03</td>\n",
       "      <td>2</td>\n",
       "      <td>NaN</td>\n",
       "      <td>NaN</td>\n",
       "      <td>NaN</td>\n",
       "      <td>NaN</td>\n",
       "      <td>41.980000</td>\n",
       "      <td>-87.670000</td>\n",
       "      <td>41.970000</td>\n",
       "      <td>-87.690000</td>\n",
       "      <td>member</td>\n",
       "    </tr>\n",
       "    <tr>\n",
       "      <th>4073557</th>\n",
       "      <td>CCDE5597E897FCED</td>\n",
       "      <td>electric_bike</td>\n",
       "      <td>31-05-2021 23:58</td>\n",
       "      <td>01-06-2021 00:11</td>\n",
       "      <td>00:13:10</td>\n",
       "      <td>2</td>\n",
       "      <td>Albany Ave &amp; Bloomingdale Ave</td>\n",
       "      <td>15655</td>\n",
       "      <td>Damen Ave &amp; Pierce Ave</td>\n",
       "      <td>TA1305000041</td>\n",
       "      <td>41.913945</td>\n",
       "      <td>-87.705213</td>\n",
       "      <td>41.909636</td>\n",
       "      <td>-87.677605</td>\n",
       "      <td>casual</td>\n",
       "    </tr>\n",
       "    <tr>\n",
       "      <th>4073558</th>\n",
       "      <td>2CF3BFB08088A143</td>\n",
       "      <td>classic_bike</td>\n",
       "      <td>31-05-2021 23:58</td>\n",
       "      <td>01-06-2021 00:03</td>\n",
       "      <td>00:05:08</td>\n",
       "      <td>2</td>\n",
       "      <td>Wilton Ave &amp; Diversey Pkwy</td>\n",
       "      <td>TA1306000014</td>\n",
       "      <td>Racine Ave &amp; Fullerton Ave</td>\n",
       "      <td>TA1306000026</td>\n",
       "      <td>41.932418</td>\n",
       "      <td>-87.652705</td>\n",
       "      <td>41.925563</td>\n",
       "      <td>-87.658404</td>\n",
       "      <td>member</td>\n",
       "    </tr>\n",
       "    <tr>\n",
       "      <th>4073559</th>\n",
       "      <td>6E7CF824593BCAA0</td>\n",
       "      <td>electric_bike</td>\n",
       "      <td>31-05-2021 23:58</td>\n",
       "      <td>01-06-2021 01:13</td>\n",
       "      <td>01:14:26</td>\n",
       "      <td>2</td>\n",
       "      <td>Wabash Ave &amp; 9th St</td>\n",
       "      <td>TA1309000010</td>\n",
       "      <td>Wabash Ave &amp; 9th St</td>\n",
       "      <td>TA1309000010</td>\n",
       "      <td>41.870627</td>\n",
       "      <td>-87.625694</td>\n",
       "      <td>41.870902</td>\n",
       "      <td>-87.625759</td>\n",
       "      <td>casual</td>\n",
       "    </tr>\n",
       "    <tr>\n",
       "      <th>4073560</th>\n",
       "      <td>94FDAB57751F30DE</td>\n",
       "      <td>classic_bike</td>\n",
       "      <td>31-05-2021 23:59</td>\n",
       "      <td>01-06-2021 01:09</td>\n",
       "      <td>01:10:21</td>\n",
       "      <td>2</td>\n",
       "      <td>Wabash Ave &amp; 9th St</td>\n",
       "      <td>TA1309000010</td>\n",
       "      <td>Wabash Ave &amp; 9th St</td>\n",
       "      <td>TA1309000010</td>\n",
       "      <td>41.870769</td>\n",
       "      <td>-87.625734</td>\n",
       "      <td>41.870769</td>\n",
       "      <td>-87.625734</td>\n",
       "      <td>casual</td>\n",
       "    </tr>\n",
       "  </tbody>\n",
       "</table>\n",
       "</div>"
      ],
      "text/plain": [
       "                  ride_id  rideable_type        started_at          ended_at  \\\n",
       "4073556  1C15BF0D39FD953B  electric_bike  31-05-2021 23:57  01-06-2021 00:06   \n",
       "4073557  CCDE5597E897FCED  electric_bike  31-05-2021 23:58  01-06-2021 00:11   \n",
       "4073558  2CF3BFB08088A143   classic_bike  31-05-2021 23:58  01-06-2021 00:03   \n",
       "4073559  6E7CF824593BCAA0  electric_bike  31-05-2021 23:58  01-06-2021 01:13   \n",
       "4073560  94FDAB57751F30DE   classic_bike  31-05-2021 23:59  01-06-2021 01:09   \n",
       "\n",
       "        Ride_time  Day_of_week             start_station_name  \\\n",
       "4073556  00:09:03            2                            NaN   \n",
       "4073557  00:13:10            2  Albany Ave & Bloomingdale Ave   \n",
       "4073558  00:05:08            2     Wilton Ave & Diversey Pkwy   \n",
       "4073559  01:14:26            2            Wabash Ave & 9th St   \n",
       "4073560  01:10:21            2            Wabash Ave & 9th St   \n",
       "\n",
       "        start_station_id            end_station_name end_station_id  \\\n",
       "4073556              NaN                         NaN            NaN   \n",
       "4073557            15655      Damen Ave & Pierce Ave   TA1305000041   \n",
       "4073558     TA1306000014  Racine Ave & Fullerton Ave   TA1306000026   \n",
       "4073559     TA1309000010         Wabash Ave & 9th St   TA1309000010   \n",
       "4073560     TA1309000010         Wabash Ave & 9th St   TA1309000010   \n",
       "\n",
       "         start_lat  start_lng    end_lat    end_lng member_casual  \n",
       "4073556  41.980000 -87.670000  41.970000 -87.690000        member  \n",
       "4073557  41.913945 -87.705213  41.909636 -87.677605        casual  \n",
       "4073558  41.932418 -87.652705  41.925563 -87.658404        member  \n",
       "4073559  41.870627 -87.625694  41.870902 -87.625759        casual  \n",
       "4073560  41.870769 -87.625734  41.870769 -87.625734        casual  "
      ]
     },
     "execution_count": 69,
     "metadata": {},
     "output_type": "execute_result"
    }
   ],
   "source": [
    "df.tail() # getting the last 5 rows to see the accuracy of the data.\n",
    "# the data is imported perfectly.\n",
    "# starts at June-2020 to may-2021"
   ]
  },
  {
   "cell_type": "markdown",
   "metadata": {},
   "source": [
    "# DATA CLEANING"
   ]
  },
  {
   "cell_type": "markdown",
   "metadata": {},
   "source": [
    "## Adding Multiple Columns to the dataset"
   ]
  },
  {
   "cell_type": "code",
   "execution_count": 71,
   "metadata": {},
   "outputs": [
    {
     "data": {
      "text/html": [
       "<div>\n",
       "<style scoped>\n",
       "    .dataframe tbody tr th:only-of-type {\n",
       "        vertical-align: middle;\n",
       "    }\n",
       "\n",
       "    .dataframe tbody tr th {\n",
       "        vertical-align: top;\n",
       "    }\n",
       "\n",
       "    .dataframe thead th {\n",
       "        text-align: right;\n",
       "    }\n",
       "</style>\n",
       "<table border=\"1\" class=\"dataframe\">\n",
       "  <thead>\n",
       "    <tr style=\"text-align: right;\">\n",
       "      <th></th>\n",
       "      <th>ride_id</th>\n",
       "      <th>rideable_type</th>\n",
       "      <th>started_at</th>\n",
       "      <th>ended_at</th>\n",
       "      <th>Ride_time</th>\n",
       "      <th>Day_of_week</th>\n",
       "      <th>start_lat</th>\n",
       "      <th>start_lng</th>\n",
       "      <th>end_lat</th>\n",
       "      <th>end_lng</th>\n",
       "      <th>member_casual</th>\n",
       "    </tr>\n",
       "  </thead>\n",
       "  <tbody>\n",
       "    <tr>\n",
       "      <th>0</th>\n",
       "      <td>E771D6B798F54371</td>\n",
       "      <td>docked_bike</td>\n",
       "      <td>03-06-2020 05:59</td>\n",
       "      <td>03-06-2020 06:11</td>\n",
       "      <td>00:11:17</td>\n",
       "      <td>4</td>\n",
       "      <td>41.885920</td>\n",
       "      <td>-87.667170</td>\n",
       "      <td>41.914610</td>\n",
       "      <td>-87.667968</td>\n",
       "      <td>member</td>\n",
       "    </tr>\n",
       "    <tr>\n",
       "      <th>1</th>\n",
       "      <td>B29C30CFA0072B25</td>\n",
       "      <td>docked_bike</td>\n",
       "      <td>03-06-2020 06:00</td>\n",
       "      <td>03-06-2020 06:03</td>\n",
       "      <td>00:03:25</td>\n",
       "      <td>4</td>\n",
       "      <td>41.921822</td>\n",
       "      <td>-87.644140</td>\n",
       "      <td>41.929143</td>\n",
       "      <td>-87.649077</td>\n",
       "      <td>member</td>\n",
       "    </tr>\n",
       "    <tr>\n",
       "      <th>2</th>\n",
       "      <td>90058C0761C4E45F</td>\n",
       "      <td>docked_bike</td>\n",
       "      <td>03-06-2020 06:00</td>\n",
       "      <td>03-06-2020 06:12</td>\n",
       "      <td>00:11:55</td>\n",
       "      <td>4</td>\n",
       "      <td>41.919936</td>\n",
       "      <td>-87.648830</td>\n",
       "      <td>41.950780</td>\n",
       "      <td>-87.659172</td>\n",
       "      <td>member</td>\n",
       "    </tr>\n",
       "    <tr>\n",
       "      <th>3</th>\n",
       "      <td>4AFF9415DF507565</td>\n",
       "      <td>docked_bike</td>\n",
       "      <td>03-06-2020 06:00</td>\n",
       "      <td>03-06-2020 06:13</td>\n",
       "      <td>00:12:52</td>\n",
       "      <td>4</td>\n",
       "      <td>41.896373</td>\n",
       "      <td>-87.660983</td>\n",
       "      <td>41.896910</td>\n",
       "      <td>-87.621743</td>\n",
       "      <td>member</td>\n",
       "    </tr>\n",
       "    <tr>\n",
       "      <th>4</th>\n",
       "      <td>6D14690F7A61AD88</td>\n",
       "      <td>docked_bike</td>\n",
       "      <td>03-06-2020 06:00</td>\n",
       "      <td>03-06-2020 06:32</td>\n",
       "      <td>00:31:30</td>\n",
       "      <td>4</td>\n",
       "      <td>41.919936</td>\n",
       "      <td>-87.648830</td>\n",
       "      <td>41.919936</td>\n",
       "      <td>-87.648830</td>\n",
       "      <td>casual</td>\n",
       "    </tr>\n",
       "  </tbody>\n",
       "</table>\n",
       "</div>"
      ],
      "text/plain": [
       "            ride_id rideable_type        started_at          ended_at  \\\n",
       "0  E771D6B798F54371   docked_bike  03-06-2020 05:59  03-06-2020 06:11   \n",
       "1  B29C30CFA0072B25   docked_bike  03-06-2020 06:00  03-06-2020 06:03   \n",
       "2  90058C0761C4E45F   docked_bike  03-06-2020 06:00  03-06-2020 06:12   \n",
       "3  4AFF9415DF507565   docked_bike  03-06-2020 06:00  03-06-2020 06:13   \n",
       "4  6D14690F7A61AD88   docked_bike  03-06-2020 06:00  03-06-2020 06:32   \n",
       "\n",
       "  Ride_time  Day_of_week  start_lat  start_lng    end_lat    end_lng  \\\n",
       "0  00:11:17            4  41.885920 -87.667170  41.914610 -87.667968   \n",
       "1  00:03:25            4  41.921822 -87.644140  41.929143 -87.649077   \n",
       "2  00:11:55            4  41.919936 -87.648830  41.950780 -87.659172   \n",
       "3  00:12:52            4  41.896373 -87.660983  41.896910 -87.621743   \n",
       "4  00:31:30            4  41.919936 -87.648830  41.919936 -87.648830   \n",
       "\n",
       "  member_casual  \n",
       "0        member  \n",
       "1        member  \n",
       "2        member  \n",
       "3        member  \n",
       "4        casual  "
      ]
     },
     "execution_count": 71,
     "metadata": {},
     "output_type": "execute_result"
    }
   ],
   "source": [
    "# get the final dataset by reoving the columns -  start_station_name , start_station_id,end_station_name , end_station_id.\n",
    "\n",
    "## df ----> the whole data with all the rows\n",
    "\n",
    "cols = [\"ride_id\" , \"rideable_type\",\"started_at\",\"ended_at\" , \"Ride_time\",\"Day_of_week\", \"start_lat\",\"start_lng\",\"end_lat\",\"end_lng\",\"member_casual\"]\n",
    "\n",
    "# copying the required columns to df_1 and will have the data copied again to df_final .\n",
    "\n",
    "df_1 = df[cols]    # df_1 ----> backup data with only the required columns.\n",
    "df_1.head()"
   ]
  },
  {
   "cell_type": "code",
   "execution_count": 72,
   "metadata": {},
   "outputs": [],
   "source": [
    "df_final = df_1.copy()      # df_final --> analysis will be performed using this variable."
   ]
  },
  {
   "cell_type": "code",
   "execution_count": 74,
   "metadata": {},
   "outputs": [
    {
     "name": "stdout",
     "output_type": "stream",
     "text": [
      "<class 'pandas.core.frame.DataFrame'>\n",
      "RangeIndex: 4073561 entries, 0 to 4073560\n",
      "Data columns (total 11 columns):\n",
      " #   Column         Dtype  \n",
      "---  ------         -----  \n",
      " 0   ride_id        object \n",
      " 1   rideable_type  object \n",
      " 2   started_at     object \n",
      " 3   ended_at       object \n",
      " 4   Ride_time      object \n",
      " 5   Day_of_week    int64  \n",
      " 6   start_lat      float64\n",
      " 7   start_lng      float64\n",
      " 8   end_lat        float64\n",
      " 9   end_lng        float64\n",
      " 10  member_casual  object \n",
      "dtypes: float64(4), int64(1), object(6)\n",
      "memory usage: 341.9+ MB\n"
     ]
    }
   ],
   "source": [
    "# Getting the info of the data for datatypes\n",
    "df_final.info()"
   ]
  },
  {
   "cell_type": "code",
   "execution_count": 75,
   "metadata": {},
   "outputs": [],
   "source": [
    "# started at Dtype is object --- should change to datetime.\n",
    "# ended at Dtype is object --- should change to datetime.\n",
    "# ride_time Dtype is object -- should chnage to time."
   ]
  },
  {
   "cell_type": "code",
   "execution_count": 76,
   "metadata": {},
   "outputs": [],
   "source": [
    "# Removing the data that has the ride_time in 'negative' as well as the data above '42 Hours'\n",
    "\n",
    "df_final = df_final[(df_final['Ride_time'] > '0') & (df_final['Ride_time'] < '42:00:00')]"
   ]
  },
  {
   "cell_type": "code",
   "execution_count": 77,
   "metadata": {},
   "outputs": [],
   "source": [
    "# Changing the data_type of the started_at column\n",
    "\n",
    "df_final['started_at'] = pd.to_datetime(df_final['started_at'])"
   ]
  },
  {
   "cell_type": "code",
   "execution_count": 78,
   "metadata": {},
   "outputs": [],
   "source": [
    "# Changing the data_type of the ended_at column\n",
    "\n",
    "df_final['ended_at'] = df['ended_at'].astype('datetime64[ns]')"
   ]
  },
  {
   "cell_type": "code",
   "execution_count": 79,
   "metadata": {},
   "outputs": [],
   "source": [
    "# Changing the data_type of the Ride_time column\n",
    "\n",
    "df_final['Ride_time']  = pd.to_datetime(df_final['Ride_time'] , format = '%H:%M:%S')"
   ]
  },
  {
   "cell_type": "code",
   "execution_count": 80,
   "metadata": {},
   "outputs": [],
   "source": [
    "# Adding a new column named - Ride_Length \n",
    "\n",
    "\n",
    "df_final['Ride_Length'] = df_final['ended_at'] - df_final['started_at']"
   ]
  },
  {
   "cell_type": "code",
   "execution_count": 81,
   "metadata": {},
   "outputs": [
    {
     "name": "stdout",
     "output_type": "stream",
     "text": [
      "<class 'pandas.core.frame.DataFrame'>\n",
      "Int64Index: 4063225 entries, 0 to 4073560\n",
      "Data columns (total 12 columns):\n",
      " #   Column         Dtype          \n",
      "---  ------         -----          \n",
      " 0   ride_id        object         \n",
      " 1   rideable_type  object         \n",
      " 2   started_at     datetime64[ns] \n",
      " 3   ended_at       datetime64[ns] \n",
      " 4   Ride_time      datetime64[ns] \n",
      " 5   Day_of_week    int64          \n",
      " 6   start_lat      float64        \n",
      " 7   start_lng      float64        \n",
      " 8   end_lat        float64        \n",
      " 9   end_lng        float64        \n",
      " 10  member_casual  object         \n",
      " 11  Ride_Length    timedelta64[ns]\n",
      "dtypes: datetime64[ns](3), float64(4), int64(1), object(3), timedelta64[ns](1)\n",
      "memory usage: 403.0+ MB\n"
     ]
    },
    {
     "data": {
      "text/html": [
       "<div>\n",
       "<style scoped>\n",
       "    .dataframe tbody tr th:only-of-type {\n",
       "        vertical-align: middle;\n",
       "    }\n",
       "\n",
       "    .dataframe tbody tr th {\n",
       "        vertical-align: top;\n",
       "    }\n",
       "\n",
       "    .dataframe thead th {\n",
       "        text-align: right;\n",
       "    }\n",
       "</style>\n",
       "<table border=\"1\" class=\"dataframe\">\n",
       "  <thead>\n",
       "    <tr style=\"text-align: right;\">\n",
       "      <th></th>\n",
       "      <th>ride_id</th>\n",
       "      <th>rideable_type</th>\n",
       "      <th>started_at</th>\n",
       "      <th>ended_at</th>\n",
       "      <th>Ride_time</th>\n",
       "      <th>Day_of_week</th>\n",
       "      <th>start_lat</th>\n",
       "      <th>start_lng</th>\n",
       "      <th>end_lat</th>\n",
       "      <th>end_lng</th>\n",
       "      <th>member_casual</th>\n",
       "      <th>Ride_Length</th>\n",
       "    </tr>\n",
       "  </thead>\n",
       "  <tbody>\n",
       "    <tr>\n",
       "      <th>0</th>\n",
       "      <td>E771D6B798F54371</td>\n",
       "      <td>docked_bike</td>\n",
       "      <td>2020-03-06 05:59:00</td>\n",
       "      <td>2020-03-06 06:11:00</td>\n",
       "      <td>1900-01-01 00:11:17</td>\n",
       "      <td>4</td>\n",
       "      <td>41.885920</td>\n",
       "      <td>-87.667170</td>\n",
       "      <td>41.914610</td>\n",
       "      <td>-87.667968</td>\n",
       "      <td>member</td>\n",
       "      <td>00:12:00</td>\n",
       "    </tr>\n",
       "    <tr>\n",
       "      <th>1</th>\n",
       "      <td>B29C30CFA0072B25</td>\n",
       "      <td>docked_bike</td>\n",
       "      <td>2020-03-06 06:00:00</td>\n",
       "      <td>2020-03-06 06:03:00</td>\n",
       "      <td>1900-01-01 00:03:25</td>\n",
       "      <td>4</td>\n",
       "      <td>41.921822</td>\n",
       "      <td>-87.644140</td>\n",
       "      <td>41.929143</td>\n",
       "      <td>-87.649077</td>\n",
       "      <td>member</td>\n",
       "      <td>00:03:00</td>\n",
       "    </tr>\n",
       "    <tr>\n",
       "      <th>2</th>\n",
       "      <td>90058C0761C4E45F</td>\n",
       "      <td>docked_bike</td>\n",
       "      <td>2020-03-06 06:00:00</td>\n",
       "      <td>2020-03-06 06:12:00</td>\n",
       "      <td>1900-01-01 00:11:55</td>\n",
       "      <td>4</td>\n",
       "      <td>41.919936</td>\n",
       "      <td>-87.648830</td>\n",
       "      <td>41.950780</td>\n",
       "      <td>-87.659172</td>\n",
       "      <td>member</td>\n",
       "      <td>00:12:00</td>\n",
       "    </tr>\n",
       "    <tr>\n",
       "      <th>3</th>\n",
       "      <td>4AFF9415DF507565</td>\n",
       "      <td>docked_bike</td>\n",
       "      <td>2020-03-06 06:00:00</td>\n",
       "      <td>2020-03-06 06:13:00</td>\n",
       "      <td>1900-01-01 00:12:52</td>\n",
       "      <td>4</td>\n",
       "      <td>41.896373</td>\n",
       "      <td>-87.660983</td>\n",
       "      <td>41.896910</td>\n",
       "      <td>-87.621743</td>\n",
       "      <td>member</td>\n",
       "      <td>00:13:00</td>\n",
       "    </tr>\n",
       "    <tr>\n",
       "      <th>4</th>\n",
       "      <td>6D14690F7A61AD88</td>\n",
       "      <td>docked_bike</td>\n",
       "      <td>2020-03-06 06:00:00</td>\n",
       "      <td>2020-03-06 06:32:00</td>\n",
       "      <td>1900-01-01 00:31:30</td>\n",
       "      <td>4</td>\n",
       "      <td>41.919936</td>\n",
       "      <td>-87.648830</td>\n",
       "      <td>41.919936</td>\n",
       "      <td>-87.648830</td>\n",
       "      <td>casual</td>\n",
       "      <td>00:32:00</td>\n",
       "    </tr>\n",
       "  </tbody>\n",
       "</table>\n",
       "</div>"
      ],
      "text/plain": [
       "            ride_id rideable_type          started_at            ended_at  \\\n",
       "0  E771D6B798F54371   docked_bike 2020-03-06 05:59:00 2020-03-06 06:11:00   \n",
       "1  B29C30CFA0072B25   docked_bike 2020-03-06 06:00:00 2020-03-06 06:03:00   \n",
       "2  90058C0761C4E45F   docked_bike 2020-03-06 06:00:00 2020-03-06 06:12:00   \n",
       "3  4AFF9415DF507565   docked_bike 2020-03-06 06:00:00 2020-03-06 06:13:00   \n",
       "4  6D14690F7A61AD88   docked_bike 2020-03-06 06:00:00 2020-03-06 06:32:00   \n",
       "\n",
       "            Ride_time  Day_of_week  start_lat  start_lng    end_lat  \\\n",
       "0 1900-01-01 00:11:17            4  41.885920 -87.667170  41.914610   \n",
       "1 1900-01-01 00:03:25            4  41.921822 -87.644140  41.929143   \n",
       "2 1900-01-01 00:11:55            4  41.919936 -87.648830  41.950780   \n",
       "3 1900-01-01 00:12:52            4  41.896373 -87.660983  41.896910   \n",
       "4 1900-01-01 00:31:30            4  41.919936 -87.648830  41.919936   \n",
       "\n",
       "     end_lng member_casual Ride_Length  \n",
       "0 -87.667968        member    00:12:00  \n",
       "1 -87.649077        member    00:03:00  \n",
       "2 -87.659172        member    00:12:00  \n",
       "3 -87.621743        member    00:13:00  \n",
       "4 -87.648830        casual    00:32:00  "
      ]
     },
     "execution_count": 81,
     "metadata": {},
     "output_type": "execute_result"
    }
   ],
   "source": [
    "df_final.info()\n",
    "\n",
    "df_final.head()"
   ]
  },
  {
   "cell_type": "code",
   "execution_count": 82,
   "metadata": {},
   "outputs": [],
   "source": [
    "# Adding a new column named - Ride_Length_minute\n",
    "\n",
    "df_final['Ride_Length_minute'] = (df_final['Ride_Length'].dt.total_seconds()/60).round(2)"
   ]
  },
  {
   "cell_type": "code",
   "execution_count": 83,
   "metadata": {},
   "outputs": [],
   "source": [
    "# Removing the data with neagtive and greater than 1000 minutes from Ride_Length_minute.\n",
    "\n",
    "\n",
    "df_final = df_final[(df_final['Ride_Length_minute'] > 0) & (df_final['Ride_Length_minute'] < 1000 )]"
   ]
  },
  {
   "cell_type": "code",
   "execution_count": 84,
   "metadata": {},
   "outputs": [
    {
     "name": "stdout",
     "output_type": "stream",
     "text": [
      "<class 'pandas.core.frame.DataFrame'>\n",
      "Int64Index: 4007747 entries, 0 to 4073547\n",
      "Data columns (total 13 columns):\n",
      " #   Column              Dtype          \n",
      "---  ------              -----          \n",
      " 0   ride_id             object         \n",
      " 1   rideable_type       object         \n",
      " 2   started_at          datetime64[ns] \n",
      " 3   ended_at            datetime64[ns] \n",
      " 4   Ride_time           datetime64[ns] \n",
      " 5   Day_of_week         int64          \n",
      " 6   start_lat           float64        \n",
      " 7   start_lng           float64        \n",
      " 8   end_lat             float64        \n",
      " 9   end_lng             float64        \n",
      " 10  member_casual       object         \n",
      " 11  Ride_Length         timedelta64[ns]\n",
      " 12  Ride_Length_minute  float64        \n",
      "dtypes: datetime64[ns](3), float64(5), int64(1), object(3), timedelta64[ns](1)\n",
      "memory usage: 428.1+ MB\n"
     ]
    },
    {
     "data": {
      "text/html": [
       "<div>\n",
       "<style scoped>\n",
       "    .dataframe tbody tr th:only-of-type {\n",
       "        vertical-align: middle;\n",
       "    }\n",
       "\n",
       "    .dataframe tbody tr th {\n",
       "        vertical-align: top;\n",
       "    }\n",
       "\n",
       "    .dataframe thead th {\n",
       "        text-align: right;\n",
       "    }\n",
       "</style>\n",
       "<table border=\"1\" class=\"dataframe\">\n",
       "  <thead>\n",
       "    <tr style=\"text-align: right;\">\n",
       "      <th></th>\n",
       "      <th>ride_id</th>\n",
       "      <th>rideable_type</th>\n",
       "      <th>started_at</th>\n",
       "      <th>ended_at</th>\n",
       "      <th>Ride_time</th>\n",
       "      <th>Day_of_week</th>\n",
       "      <th>start_lat</th>\n",
       "      <th>start_lng</th>\n",
       "      <th>end_lat</th>\n",
       "      <th>end_lng</th>\n",
       "      <th>member_casual</th>\n",
       "      <th>Ride_Length</th>\n",
       "      <th>Ride_Length_minute</th>\n",
       "    </tr>\n",
       "  </thead>\n",
       "  <tbody>\n",
       "    <tr>\n",
       "      <th>0</th>\n",
       "      <td>E771D6B798F54371</td>\n",
       "      <td>docked_bike</td>\n",
       "      <td>2020-03-06 05:59:00</td>\n",
       "      <td>2020-03-06 06:11:00</td>\n",
       "      <td>1900-01-01 00:11:17</td>\n",
       "      <td>4</td>\n",
       "      <td>41.885920</td>\n",
       "      <td>-87.667170</td>\n",
       "      <td>41.914610</td>\n",
       "      <td>-87.667968</td>\n",
       "      <td>member</td>\n",
       "      <td>00:12:00</td>\n",
       "      <td>12.0</td>\n",
       "    </tr>\n",
       "    <tr>\n",
       "      <th>1</th>\n",
       "      <td>B29C30CFA0072B25</td>\n",
       "      <td>docked_bike</td>\n",
       "      <td>2020-03-06 06:00:00</td>\n",
       "      <td>2020-03-06 06:03:00</td>\n",
       "      <td>1900-01-01 00:03:25</td>\n",
       "      <td>4</td>\n",
       "      <td>41.921822</td>\n",
       "      <td>-87.644140</td>\n",
       "      <td>41.929143</td>\n",
       "      <td>-87.649077</td>\n",
       "      <td>member</td>\n",
       "      <td>00:03:00</td>\n",
       "      <td>3.0</td>\n",
       "    </tr>\n",
       "    <tr>\n",
       "      <th>2</th>\n",
       "      <td>90058C0761C4E45F</td>\n",
       "      <td>docked_bike</td>\n",
       "      <td>2020-03-06 06:00:00</td>\n",
       "      <td>2020-03-06 06:12:00</td>\n",
       "      <td>1900-01-01 00:11:55</td>\n",
       "      <td>4</td>\n",
       "      <td>41.919936</td>\n",
       "      <td>-87.648830</td>\n",
       "      <td>41.950780</td>\n",
       "      <td>-87.659172</td>\n",
       "      <td>member</td>\n",
       "      <td>00:12:00</td>\n",
       "      <td>12.0</td>\n",
       "    </tr>\n",
       "    <tr>\n",
       "      <th>3</th>\n",
       "      <td>4AFF9415DF507565</td>\n",
       "      <td>docked_bike</td>\n",
       "      <td>2020-03-06 06:00:00</td>\n",
       "      <td>2020-03-06 06:13:00</td>\n",
       "      <td>1900-01-01 00:12:52</td>\n",
       "      <td>4</td>\n",
       "      <td>41.896373</td>\n",
       "      <td>-87.660983</td>\n",
       "      <td>41.896910</td>\n",
       "      <td>-87.621743</td>\n",
       "      <td>member</td>\n",
       "      <td>00:13:00</td>\n",
       "      <td>13.0</td>\n",
       "    </tr>\n",
       "    <tr>\n",
       "      <th>4</th>\n",
       "      <td>6D14690F7A61AD88</td>\n",
       "      <td>docked_bike</td>\n",
       "      <td>2020-03-06 06:00:00</td>\n",
       "      <td>2020-03-06 06:32:00</td>\n",
       "      <td>1900-01-01 00:31:30</td>\n",
       "      <td>4</td>\n",
       "      <td>41.919936</td>\n",
       "      <td>-87.648830</td>\n",
       "      <td>41.919936</td>\n",
       "      <td>-87.648830</td>\n",
       "      <td>casual</td>\n",
       "      <td>00:32:00</td>\n",
       "      <td>32.0</td>\n",
       "    </tr>\n",
       "  </tbody>\n",
       "</table>\n",
       "</div>"
      ],
      "text/plain": [
       "            ride_id rideable_type          started_at            ended_at  \\\n",
       "0  E771D6B798F54371   docked_bike 2020-03-06 05:59:00 2020-03-06 06:11:00   \n",
       "1  B29C30CFA0072B25   docked_bike 2020-03-06 06:00:00 2020-03-06 06:03:00   \n",
       "2  90058C0761C4E45F   docked_bike 2020-03-06 06:00:00 2020-03-06 06:12:00   \n",
       "3  4AFF9415DF507565   docked_bike 2020-03-06 06:00:00 2020-03-06 06:13:00   \n",
       "4  6D14690F7A61AD88   docked_bike 2020-03-06 06:00:00 2020-03-06 06:32:00   \n",
       "\n",
       "            Ride_time  Day_of_week  start_lat  start_lng    end_lat  \\\n",
       "0 1900-01-01 00:11:17            4  41.885920 -87.667170  41.914610   \n",
       "1 1900-01-01 00:03:25            4  41.921822 -87.644140  41.929143   \n",
       "2 1900-01-01 00:11:55            4  41.919936 -87.648830  41.950780   \n",
       "3 1900-01-01 00:12:52            4  41.896373 -87.660983  41.896910   \n",
       "4 1900-01-01 00:31:30            4  41.919936 -87.648830  41.919936   \n",
       "\n",
       "     end_lng member_casual Ride_Length  Ride_Length_minute  \n",
       "0 -87.667968        member    00:12:00                12.0  \n",
       "1 -87.649077        member    00:03:00                 3.0  \n",
       "2 -87.659172        member    00:12:00                12.0  \n",
       "3 -87.621743        member    00:13:00                13.0  \n",
       "4 -87.648830        casual    00:32:00                32.0  "
      ]
     },
     "execution_count": 84,
     "metadata": {},
     "output_type": "execute_result"
    }
   ],
   "source": [
    "df_final.info()\n",
    "\n",
    "df_final.head()"
   ]
  },
  {
   "cell_type": "code",
   "execution_count": 85,
   "metadata": {},
   "outputs": [
    {
     "data": {
      "text/html": [
       "<div>\n",
       "<style scoped>\n",
       "    .dataframe tbody tr th:only-of-type {\n",
       "        vertical-align: middle;\n",
       "    }\n",
       "\n",
       "    .dataframe tbody tr th {\n",
       "        vertical-align: top;\n",
       "    }\n",
       "\n",
       "    .dataframe thead th {\n",
       "        text-align: right;\n",
       "    }\n",
       "</style>\n",
       "<table border=\"1\" class=\"dataframe\">\n",
       "  <thead>\n",
       "    <tr style=\"text-align: right;\">\n",
       "      <th></th>\n",
       "      <th>ride_id</th>\n",
       "      <th>rideable_type</th>\n",
       "      <th>started_at</th>\n",
       "      <th>ended_at</th>\n",
       "      <th>Ride_time</th>\n",
       "      <th>Day_of_week</th>\n",
       "      <th>start_lat</th>\n",
       "      <th>start_lng</th>\n",
       "      <th>end_lat</th>\n",
       "      <th>end_lng</th>\n",
       "      <th>member_casual</th>\n",
       "      <th>Ride_Length</th>\n",
       "      <th>Ride_Length_minute</th>\n",
       "      <th>Day</th>\n",
       "      <th>Month</th>\n",
       "      <th>Year</th>\n",
       "      <th>Day_of_Week</th>\n",
       "    </tr>\n",
       "  </thead>\n",
       "  <tbody>\n",
       "    <tr>\n",
       "      <th>0</th>\n",
       "      <td>E771D6B798F54371</td>\n",
       "      <td>docked_bike</td>\n",
       "      <td>2020-03-06 05:59:00</td>\n",
       "      <td>2020-03-06 06:11:00</td>\n",
       "      <td>1900-01-01 00:11:17</td>\n",
       "      <td>4</td>\n",
       "      <td>41.885920</td>\n",
       "      <td>-87.667170</td>\n",
       "      <td>41.914610</td>\n",
       "      <td>-87.667968</td>\n",
       "      <td>member</td>\n",
       "      <td>00:12:00</td>\n",
       "      <td>12.0</td>\n",
       "      <td>6</td>\n",
       "      <td>Mar</td>\n",
       "      <td>2020</td>\n",
       "      <td>Friday</td>\n",
       "    </tr>\n",
       "    <tr>\n",
       "      <th>1</th>\n",
       "      <td>B29C30CFA0072B25</td>\n",
       "      <td>docked_bike</td>\n",
       "      <td>2020-03-06 06:00:00</td>\n",
       "      <td>2020-03-06 06:03:00</td>\n",
       "      <td>1900-01-01 00:03:25</td>\n",
       "      <td>4</td>\n",
       "      <td>41.921822</td>\n",
       "      <td>-87.644140</td>\n",
       "      <td>41.929143</td>\n",
       "      <td>-87.649077</td>\n",
       "      <td>member</td>\n",
       "      <td>00:03:00</td>\n",
       "      <td>3.0</td>\n",
       "      <td>6</td>\n",
       "      <td>Mar</td>\n",
       "      <td>2020</td>\n",
       "      <td>Friday</td>\n",
       "    </tr>\n",
       "    <tr>\n",
       "      <th>2</th>\n",
       "      <td>90058C0761C4E45F</td>\n",
       "      <td>docked_bike</td>\n",
       "      <td>2020-03-06 06:00:00</td>\n",
       "      <td>2020-03-06 06:12:00</td>\n",
       "      <td>1900-01-01 00:11:55</td>\n",
       "      <td>4</td>\n",
       "      <td>41.919936</td>\n",
       "      <td>-87.648830</td>\n",
       "      <td>41.950780</td>\n",
       "      <td>-87.659172</td>\n",
       "      <td>member</td>\n",
       "      <td>00:12:00</td>\n",
       "      <td>12.0</td>\n",
       "      <td>6</td>\n",
       "      <td>Mar</td>\n",
       "      <td>2020</td>\n",
       "      <td>Friday</td>\n",
       "    </tr>\n",
       "    <tr>\n",
       "      <th>3</th>\n",
       "      <td>4AFF9415DF507565</td>\n",
       "      <td>docked_bike</td>\n",
       "      <td>2020-03-06 06:00:00</td>\n",
       "      <td>2020-03-06 06:13:00</td>\n",
       "      <td>1900-01-01 00:12:52</td>\n",
       "      <td>4</td>\n",
       "      <td>41.896373</td>\n",
       "      <td>-87.660983</td>\n",
       "      <td>41.896910</td>\n",
       "      <td>-87.621743</td>\n",
       "      <td>member</td>\n",
       "      <td>00:13:00</td>\n",
       "      <td>13.0</td>\n",
       "      <td>6</td>\n",
       "      <td>Mar</td>\n",
       "      <td>2020</td>\n",
       "      <td>Friday</td>\n",
       "    </tr>\n",
       "    <tr>\n",
       "      <th>4</th>\n",
       "      <td>6D14690F7A61AD88</td>\n",
       "      <td>docked_bike</td>\n",
       "      <td>2020-03-06 06:00:00</td>\n",
       "      <td>2020-03-06 06:32:00</td>\n",
       "      <td>1900-01-01 00:31:30</td>\n",
       "      <td>4</td>\n",
       "      <td>41.919936</td>\n",
       "      <td>-87.648830</td>\n",
       "      <td>41.919936</td>\n",
       "      <td>-87.648830</td>\n",
       "      <td>casual</td>\n",
       "      <td>00:32:00</td>\n",
       "      <td>32.0</td>\n",
       "      <td>6</td>\n",
       "      <td>Mar</td>\n",
       "      <td>2020</td>\n",
       "      <td>Friday</td>\n",
       "    </tr>\n",
       "  </tbody>\n",
       "</table>\n",
       "</div>"
      ],
      "text/plain": [
       "            ride_id rideable_type          started_at            ended_at  \\\n",
       "0  E771D6B798F54371   docked_bike 2020-03-06 05:59:00 2020-03-06 06:11:00   \n",
       "1  B29C30CFA0072B25   docked_bike 2020-03-06 06:00:00 2020-03-06 06:03:00   \n",
       "2  90058C0761C4E45F   docked_bike 2020-03-06 06:00:00 2020-03-06 06:12:00   \n",
       "3  4AFF9415DF507565   docked_bike 2020-03-06 06:00:00 2020-03-06 06:13:00   \n",
       "4  6D14690F7A61AD88   docked_bike 2020-03-06 06:00:00 2020-03-06 06:32:00   \n",
       "\n",
       "            Ride_time  Day_of_week  start_lat  start_lng    end_lat  \\\n",
       "0 1900-01-01 00:11:17            4  41.885920 -87.667170  41.914610   \n",
       "1 1900-01-01 00:03:25            4  41.921822 -87.644140  41.929143   \n",
       "2 1900-01-01 00:11:55            4  41.919936 -87.648830  41.950780   \n",
       "3 1900-01-01 00:12:52            4  41.896373 -87.660983  41.896910   \n",
       "4 1900-01-01 00:31:30            4  41.919936 -87.648830  41.919936   \n",
       "\n",
       "     end_lng member_casual Ride_Length  Ride_Length_minute  Day Month  Year  \\\n",
       "0 -87.667968        member    00:12:00                12.0    6   Mar  2020   \n",
       "1 -87.649077        member    00:03:00                 3.0    6   Mar  2020   \n",
       "2 -87.659172        member    00:12:00                12.0    6   Mar  2020   \n",
       "3 -87.621743        member    00:13:00                13.0    6   Mar  2020   \n",
       "4 -87.648830        casual    00:32:00                32.0    6   Mar  2020   \n",
       "\n",
       "  Day_of_Week  \n",
       "0      Friday  \n",
       "1      Friday  \n",
       "2      Friday  \n",
       "3      Friday  \n",
       "4      Friday  "
      ]
     },
     "execution_count": 85,
     "metadata": {},
     "output_type": "execute_result"
    }
   ],
   "source": [
    "# reating new columns for easy analysis.\n",
    "\n",
    "type: object\n",
    "from datetime import datetime as dt\n",
    "from pandas.api.types import CategoricalDtype\n",
    "\n",
    "day= {\n",
    "    0: 'Monday', \n",
    "    1: 'Tuesday', \n",
    "    2: 'Wednesday', \n",
    "    3: 'Thursday', \n",
    "    4: 'Friday',\n",
    "    5: 'Saturday', \n",
    "    6: 'Sunday'\n",
    "} \n",
    "\n",
    "month= {\n",
    "    1: 'Jan', \n",
    "    2: 'Feb', \n",
    "    3: 'Mar', \n",
    "    4: 'Apr',\n",
    "    5: 'May', \n",
    "    6: 'Jun', \n",
    "    7: 'Jul', \n",
    "    8: 'Aug', \n",
    "    9: 'Sep', \n",
    "    10: 'Oct',\n",
    "    11: 'Nov', \n",
    "    12: 'Dec'\n",
    "}\n",
    "\n",
    "df_final['Day'] = df_final['started_at'].dt.day\n",
    "df_final['Month'] = df_final['started_at'].dt.month.map(month)\n",
    "df_final['Year'] = df_final['started_at'].dt.year\n",
    "df_final['Day_of_Week'] = df_final['started_at'].dt.dayofweek.map(day)\n",
    "\n",
    "df_final.head()\n"
   ]
  },
  {
   "cell_type": "code",
   "execution_count": 86,
   "metadata": {},
   "outputs": [],
   "source": [
    "# we have total rows of = 4073547\n",
    "# we have total columns = 10\n",
    "# All the data types are as expected. "
   ]
  },
  {
   "cell_type": "markdown",
   "metadata": {},
   "source": [
    "# ANALYZING DATA\n",
    "### MEMBERS VS CASUAL RIDERS"
   ]
  },
  {
   "cell_type": "markdown",
   "metadata": {},
   "source": [
    "##### Lets see the number of member riders vs casual riders."
   ]
  },
  {
   "cell_type": "code",
   "execution_count": 88,
   "metadata": {},
   "outputs": [
    {
     "data": {
      "text/html": [
       "<div>\n",
       "<style scoped>\n",
       "    .dataframe tbody tr th:only-of-type {\n",
       "        vertical-align: middle;\n",
       "    }\n",
       "\n",
       "    .dataframe tbody tr th {\n",
       "        vertical-align: top;\n",
       "    }\n",
       "\n",
       "    .dataframe thead th {\n",
       "        text-align: right;\n",
       "    }\n",
       "</style>\n",
       "<table border=\"1\" class=\"dataframe\">\n",
       "  <thead>\n",
       "    <tr style=\"text-align: right;\">\n",
       "      <th></th>\n",
       "      <th></th>\n",
       "      <th>member_casual</th>\n",
       "    </tr>\n",
       "    <tr>\n",
       "      <th>member_casual</th>\n",
       "      <th>member_casual</th>\n",
       "      <th></th>\n",
       "    </tr>\n",
       "  </thead>\n",
       "  <tbody>\n",
       "    <tr>\n",
       "      <th>casual</th>\n",
       "      <th>casual</th>\n",
       "      <td>1681889</td>\n",
       "    </tr>\n",
       "    <tr>\n",
       "      <th>member</th>\n",
       "      <th>member</th>\n",
       "      <td>2325858</td>\n",
       "    </tr>\n",
       "  </tbody>\n",
       "</table>\n",
       "</div>"
      ],
      "text/plain": [
       "                             member_casual\n",
       "member_casual member_casual               \n",
       "casual        casual               1681889\n",
       "member        member               2325858"
      ]
     },
     "execution_count": 88,
     "metadata": {},
     "output_type": "execute_result"
    }
   ],
   "source": [
    "member_casual = df_final.groupby(\"member_casual\")['member_casual'].value_counts()\n",
    "pd.DataFrame(member_casual)"
   ]
  },
  {
   "cell_type": "code",
   "execution_count": 90,
   "metadata": {},
   "outputs": [
    {
     "data": {
      "text/plain": [
       "Text(0.5, 1.0, 'Percentage of Members vs Casual riders')"
      ]
     },
     "execution_count": 90,
     "metadata": {},
     "output_type": "execute_result"
    },
    {
     "data": {
      "image/png": "[encoded data removed]",
      "text/plain": [
       "<Figure size 432x288 with 1 Axes>"
      ]
     },
     "metadata": {},
     "output_type": "display_data"
    }
   ],
   "source": [
    "\n",
    "plt.pie(x=member_casual,labels = ['Casual','Member'],autopct=\"%.1f%%\",explode=[0.03]*2, pctdistance=0.5)\n",
    "plt.title(\"Percentage of Members vs Casual riders\")"
   ]
  },
  {
   "cell_type": "markdown",
   "metadata": {},
   "source": [
    "* The number of Members are relatively more than the number of casual riders in Cyclist."
   ]
  },
  {
   "cell_type": "markdown",
   "metadata": {},
   "source": [
    "#### Lets have a look at the mean of the Ride_Length in minutes for member vs casual rider."
   ]
  },
  {
   "cell_type": "code",
   "execution_count": 91,
   "metadata": {},
   "outputs": [
    {
     "data": {
      "text/html": [
       "<div>\n",
       "<style scoped>\n",
       "    .dataframe tbody tr th:only-of-type {\n",
       "        vertical-align: middle;\n",
       "    }\n",
       "\n",
       "    .dataframe tbody tr th {\n",
       "        vertical-align: top;\n",
       "    }\n",
       "\n",
       "    .dataframe thead th {\n",
       "        text-align: right;\n",
       "    }\n",
       "</style>\n",
       "<table border=\"1\" class=\"dataframe\">\n",
       "  <thead>\n",
       "    <tr style=\"text-align: right;\">\n",
       "      <th></th>\n",
       "      <th>Ride_Length_minute</th>\n",
       "    </tr>\n",
       "    <tr>\n",
       "      <th>member_casual</th>\n",
       "      <th></th>\n",
       "    </tr>\n",
       "  </thead>\n",
       "  <tbody>\n",
       "    <tr>\n",
       "      <th>casual</th>\n",
       "      <td>33.225122</td>\n",
       "    </tr>\n",
       "    <tr>\n",
       "      <th>member</th>\n",
       "      <td>15.081933</td>\n",
       "    </tr>\n",
       "  </tbody>\n",
       "</table>\n",
       "</div>"
      ],
      "text/plain": [
       "               Ride_Length_minute\n",
       "member_casual                    \n",
       "casual                  33.225122\n",
       "member                  15.081933"
      ]
     },
     "execution_count": 91,
     "metadata": {},
     "output_type": "execute_result"
    }
   ],
   "source": [
    "mc_ride_time= df_final.groupby(\"member_casual\")['Ride_Length_minute'].mean()\n",
    "pd.DataFrame(mc_ride_time)"
   ]
  },
  {
   "cell_type": "code",
   "execution_count": 92,
   "metadata": {
    "scrolled": false
   },
   "outputs": [
    {
     "data": {
      "text/plain": [
       "<matplotlib.axes._subplots.AxesSubplot at 0x2a2783ea1c8>"
      ]
     },
     "execution_count": 92,
     "metadata": {},
     "output_type": "execute_result"
    },
    {
     "data": {
      "image/png": "[encoded data removed]",
      "text/plain": [
       "<Figure size 432x288 with 1 Axes>"
      ]
     },
     "metadata": {
      "needs_background": "light"
     },
     "output_type": "display_data"
    }
   ],
   "source": [
    "mc_ride_time.plot.bar(title = 'Average Ride time - Casual Riders vs Member Riders')"
   ]
  },
  {
   "cell_type": "markdown",
   "metadata": {},
   "source": [
    "* Intrestingly, Even tough the number of causal riders are less than the member riders, The average ride time of the casual riders is way more than the member riders."
   ]
  },
  {
   "cell_type": "markdown",
   "metadata": {},
   "source": [
    "#### Number of Members VS Casual riders in a year."
   ]
  },
  {
   "cell_type": "code",
   "execution_count": 93,
   "metadata": {},
   "outputs": [
    {
     "data": {
      "text/html": [
       "<div>\n",
       "<style scoped>\n",
       "    .dataframe tbody tr th:only-of-type {\n",
       "        vertical-align: middle;\n",
       "    }\n",
       "\n",
       "    .dataframe tbody tr th {\n",
       "        vertical-align: top;\n",
       "    }\n",
       "\n",
       "    .dataframe thead th {\n",
       "        text-align: right;\n",
       "    }\n",
       "</style>\n",
       "<table border=\"1\" class=\"dataframe\">\n",
       "  <thead>\n",
       "    <tr style=\"text-align: right;\">\n",
       "      <th></th>\n",
       "      <th></th>\n",
       "      <th>Year</th>\n",
       "    </tr>\n",
       "    <tr>\n",
       "      <th>member_casual</th>\n",
       "      <th>Year</th>\n",
       "      <th></th>\n",
       "    </tr>\n",
       "  </thead>\n",
       "  <tbody>\n",
       "    <tr>\n",
       "      <th rowspan=\"2\" valign=\"top\">casual</th>\n",
       "      <th>2020</th>\n",
       "      <td>1183334</td>\n",
       "    </tr>\n",
       "    <tr>\n",
       "      <th>2021</th>\n",
       "      <td>498555</td>\n",
       "    </tr>\n",
       "    <tr>\n",
       "      <th rowspan=\"2\" valign=\"top\">member</th>\n",
       "      <th>2020</th>\n",
       "      <td>1596329</td>\n",
       "    </tr>\n",
       "    <tr>\n",
       "      <th>2021</th>\n",
       "      <td>729529</td>\n",
       "    </tr>\n",
       "  </tbody>\n",
       "</table>\n",
       "</div>"
      ],
      "text/plain": [
       "                       Year\n",
       "member_casual Year         \n",
       "casual        2020  1183334\n",
       "              2021   498555\n",
       "member        2020  1596329\n",
       "              2021   729529"
      ]
     },
     "execution_count": 93,
     "metadata": {},
     "output_type": "execute_result"
    }
   ],
   "source": [
    "# No.of Members VS Casual riders in a year.\n",
    "month_count = df_final.groupby(\"member_casual\")['Year'].value_counts()\n",
    "pd.DataFrame(month_count)"
   ]
  },
  {
   "cell_type": "code",
   "execution_count": 94,
   "metadata": {},
   "outputs": [
    {
     "data": {
      "text/plain": [
       "<matplotlib.axes._subplots.AxesSubplot at 0x2a27842a708>"
      ]
     },
     "execution_count": 94,
     "metadata": {},
     "output_type": "execute_result"
    },
    {
     "data": {
      "image/png": "[encoded data removed]",
      "text/plain": [
       "<Figure size 720x432 with 1 Axes>"
      ]
     },
     "metadata": {
      "needs_background": "light"
     },
     "output_type": "display_data"
    }
   ],
   "source": [
    "plt.figure(figsize = (10,6))\n",
    "plt.title(\"Members & Casual rides - 2020 vs 2021\")\n",
    "sb.countplot(data = df_final , x = \"Year\" , hue = \"member_casual\",palette = 'coolwarm_r')"
   ]
  },
  {
   "cell_type": "markdown",
   "metadata": {},
   "source": [
    "* There is a visible differnce in the number of riders from 2020 to 2021.\n",
    "#### Note: Since the data contains only few months from each year cant totally rely on the year comparision."
   ]
  },
  {
   "cell_type": "markdown",
   "metadata": {},
   "source": [
    "##### Ride _length mean based on months - Member vs Casual Riders"
   ]
  },
  {
   "cell_type": "markdown",
   "metadata": {},
   "source": [
    "* The ride length average for the casual riders is almost double when compared to the member riders in any given month."
   ]
  },
  {
   "cell_type": "code",
   "execution_count": 100,
   "metadata": {
    "scrolled": true
   },
   "outputs": [
    {
     "data": {
      "text/html": [
       "<div>\n",
       "<style scoped>\n",
       "    .dataframe tbody tr th:only-of-type {\n",
       "        vertical-align: middle;\n",
       "    }\n",
       "\n",
       "    .dataframe tbody tr th {\n",
       "        vertical-align: top;\n",
       "    }\n",
       "\n",
       "    .dataframe thead th {\n",
       "        text-align: right;\n",
       "    }\n",
       "</style>\n",
       "<table border=\"1\" class=\"dataframe\">\n",
       "  <thead>\n",
       "    <tr style=\"text-align: right;\">\n",
       "      <th></th>\n",
       "      <th></th>\n",
       "      <th>Ride_Length_minute</th>\n",
       "    </tr>\n",
       "    <tr>\n",
       "      <th>member_casual</th>\n",
       "      <th>Month</th>\n",
       "      <th></th>\n",
       "    </tr>\n",
       "  </thead>\n",
       "  <tbody>\n",
       "    <tr>\n",
       "      <th rowspan=\"12\" valign=\"top\">casual</th>\n",
       "      <th>Jan</th>\n",
       "      <td>30.523215</td>\n",
       "    </tr>\n",
       "    <tr>\n",
       "      <th>Feb</th>\n",
       "      <td>32.491306</td>\n",
       "    </tr>\n",
       "    <tr>\n",
       "      <th>Mar</th>\n",
       "      <td>31.828226</td>\n",
       "    </tr>\n",
       "    <tr>\n",
       "      <th>Apr</th>\n",
       "      <td>30.266319</td>\n",
       "    </tr>\n",
       "    <tr>\n",
       "      <th>May</th>\n",
       "      <td>31.971726</td>\n",
       "    </tr>\n",
       "    <tr>\n",
       "      <th>Jun</th>\n",
       "      <td>38.631004</td>\n",
       "    </tr>\n",
       "    <tr>\n",
       "      <th>Jul</th>\n",
       "      <td>39.618845</td>\n",
       "    </tr>\n",
       "    <tr>\n",
       "      <th>Aug</th>\n",
       "      <td>34.903335</td>\n",
       "    </tr>\n",
       "    <tr>\n",
       "      <th>Sep</th>\n",
       "      <td>30.871435</td>\n",
       "    </tr>\n",
       "    <tr>\n",
       "      <th>Oct</th>\n",
       "      <td>26.429465</td>\n",
       "    </tr>\n",
       "    <tr>\n",
       "      <th>Nov</th>\n",
       "      <td>29.282096</td>\n",
       "    </tr>\n",
       "    <tr>\n",
       "      <th>Dec</th>\n",
       "      <td>29.810283</td>\n",
       "    </tr>\n",
       "    <tr>\n",
       "      <th rowspan=\"12\" valign=\"top\">member</th>\n",
       "      <th>Jan</th>\n",
       "      <td>13.698303</td>\n",
       "    </tr>\n",
       "    <tr>\n",
       "      <th>Feb</th>\n",
       "      <td>15.135799</td>\n",
       "    </tr>\n",
       "    <tr>\n",
       "      <th>Mar</th>\n",
       "      <td>14.558606</td>\n",
       "    </tr>\n",
       "    <tr>\n",
       "      <th>Apr</th>\n",
       "      <td>14.547530</td>\n",
       "    </tr>\n",
       "    <tr>\n",
       "      <th>May</th>\n",
       "      <td>14.870654</td>\n",
       "    </tr>\n",
       "    <tr>\n",
       "      <th>Jun</th>\n",
       "      <td>17.059612</td>\n",
       "    </tr>\n",
       "    <tr>\n",
       "      <th>Jul</th>\n",
       "      <td>16.549657</td>\n",
       "    </tr>\n",
       "    <tr>\n",
       "      <th>Aug</th>\n",
       "      <td>15.939428</td>\n",
       "    </tr>\n",
       "    <tr>\n",
       "      <th>Sep</th>\n",
       "      <td>14.955400</td>\n",
       "    </tr>\n",
       "    <tr>\n",
       "      <th>Oct</th>\n",
       "      <td>13.612797</td>\n",
       "    </tr>\n",
       "    <tr>\n",
       "      <th>Nov</th>\n",
       "      <td>13.971971</td>\n",
       "    </tr>\n",
       "    <tr>\n",
       "      <th>Dec</th>\n",
       "      <td>13.829728</td>\n",
       "    </tr>\n",
       "  </tbody>\n",
       "</table>\n",
       "</div>"
      ],
      "text/plain": [
       "                     Ride_Length_minute\n",
       "member_casual Month                    \n",
       "casual        Jan             30.523215\n",
       "              Feb             32.491306\n",
       "              Mar             31.828226\n",
       "              Apr             30.266319\n",
       "              May             31.971726\n",
       "              Jun             38.631004\n",
       "              Jul             39.618845\n",
       "              Aug             34.903335\n",
       "              Sep             30.871435\n",
       "              Oct             26.429465\n",
       "              Nov             29.282096\n",
       "              Dec             29.810283\n",
       "member        Jan             13.698303\n",
       "              Feb             15.135799\n",
       "              Mar             14.558606\n",
       "              Apr             14.547530\n",
       "              May             14.870654\n",
       "              Jun             17.059612\n",
       "              Jul             16.549657\n",
       "              Aug             15.939428\n",
       "              Sep             14.955400\n",
       "              Oct             13.612797\n",
       "              Nov             13.971971\n",
       "              Dec             13.829728"
      ]
     },
     "execution_count": 100,
     "metadata": {},
     "output_type": "execute_result"
    }
   ],
   "source": [
    "months = [\"Jan\", \"Feb\", \"Mar\", \"Apr\", \"May\", \"Jun\", \"Jul\", \"Aug\", \"Sep\", \"Oct\", \"Nov\",\"Dec\"]\n",
    "ride_len_mean = df_final.groupby([\"member_casual\" , \"Month\"])['Ride_Length_minute'].mean()\n",
    "pd.DataFrame(ride_len_mean).reindex(index = months , level = 1)"
   ]
  },
  {
   "cell_type": "markdown",
   "metadata": {},
   "source": [
    "* Lets compare the number of riders against the ride length in each month."
   ]
  },
  {
   "cell_type": "code",
   "execution_count": 95,
   "metadata": {},
   "outputs": [
    {
     "data": {
      "text/plain": [
       "<matplotlib.axes._subplots.AxesSubplot at 0x2a2784a7b08>"
      ]
     },
     "execution_count": 95,
     "metadata": {},
     "output_type": "execute_result"
    },
    {
     "data": {
      "image/png": "[encoded data removed]",
      "text/plain": [
       "<Figure size 1440x432 with 1 Axes>"
      ]
     },
     "metadata": {
      "needs_background": "light"
     },
     "output_type": "display_data"
    },
    {
     "data": {
      "image/png": "[encoded data removed]",
      "text/plain": [
       "<Figure size 1440x432 with 1 Axes>"
      ]
     },
     "metadata": {
      "needs_background": "light"
     },
     "output_type": "display_data"
    }
   ],
   "source": [
    "\n",
    "## ride length grouping\n",
    "months = [\"Jan\", \"Feb\", \"Mar\", \"Apr\", \"May\", \"Jun\", \"Jul\", \"Aug\", \"Sep\", \"Oct\", \"Nov\",\"Dec\"]\n",
    "ride_len_mean_1 = df_final.groupby([\"member_casual\" , \"Month\"]).agg(mean_1 = ('Ride_Length_minute' , 'mean'))\n",
    "ride_len_mean_1 = ride_len_mean_1.reset_index()\n",
    "\n",
    "## Number of riders grouping\n",
    "no_riders_membercasual = df_final.groupby([\"member_casual\" , \"Month\"]).agg(count_1 = ('member_casual' , 'count'))\n",
    "no_riders_membercasual = no_riders_membercasual.reset_index()\n",
    "  \n",
    "# subplot 1\n",
    "plt.figure(figsize = (20,6))\n",
    "\n",
    "plt.subplot(1,2,1)\n",
    "plt.title(\"Average Ride time per month\")\n",
    "sb.barplot(x=\"Month\",\n",
    "           y=\"mean_1\",\n",
    "           hue=\"member_casual\",\n",
    "           data=ride_len_mean_1)\n",
    "# subplot 2\n",
    "plt.figure(figsize = (20,6))\n",
    "\n",
    "plt.subplot(1,2,2)\n",
    "plt.title(\"Number of Riders Per Month\")\n",
    "sb.barplot(x=\"Month\",\n",
    "           y=\"count_1\",\n",
    "           hue=\"member_casual\",\n",
    "           data=no_riders_membercasual)"
   ]
  },
  {
   "cell_type": "markdown",
   "metadata": {},
   "source": [
    "* The Number of casual riders are always less than the member riders - Still casual riders ride length is way more than then.\n",
    "###### Note: This viualization might be useful to get the casual riders to become member riders, As casual riders are riding more time and benifiting less than the member riders."
   ]
  },
  {
   "cell_type": "markdown",
   "metadata": {},
   "source": [
    "####  POPULAR RIDING MONTH - CASUAL VS MEMBER"
   ]
  },
  {
   "cell_type": "code",
   "execution_count": 98,
   "metadata": {},
   "outputs": [
    {
     "data": {
      "text/html": [
       "<div>\n",
       "<style scoped>\n",
       "    .dataframe tbody tr th:only-of-type {\n",
       "        vertical-align: middle;\n",
       "    }\n",
       "\n",
       "    .dataframe tbody tr th {\n",
       "        vertical-align: top;\n",
       "    }\n",
       "\n",
       "    .dataframe thead th {\n",
       "        text-align: right;\n",
       "    }\n",
       "</style>\n",
       "<table border=\"1\" class=\"dataframe\">\n",
       "  <thead>\n",
       "    <tr style=\"text-align: right;\">\n",
       "      <th></th>\n",
       "      <th></th>\n",
       "      <th>Month</th>\n",
       "    </tr>\n",
       "    <tr>\n",
       "      <th>member_casual</th>\n",
       "      <th>Month</th>\n",
       "      <th></th>\n",
       "    </tr>\n",
       "  </thead>\n",
       "  <tbody>\n",
       "    <tr>\n",
       "      <th rowspan=\"12\" valign=\"top\">casual</th>\n",
       "      <th>Jan</th>\n",
       "      <td>54534</td>\n",
       "    </tr>\n",
       "    <tr>\n",
       "      <th>Feb</th>\n",
       "      <td>57854</td>\n",
       "    </tr>\n",
       "    <tr>\n",
       "      <th>Mar</th>\n",
       "      <td>113341</td>\n",
       "    </tr>\n",
       "    <tr>\n",
       "      <th>Apr</th>\n",
       "      <td>129435</td>\n",
       "    </tr>\n",
       "    <tr>\n",
       "      <th>May</th>\n",
       "      <td>243296</td>\n",
       "    </tr>\n",
       "    <tr>\n",
       "      <th>Jun</th>\n",
       "      <td>169861</td>\n",
       "    </tr>\n",
       "    <tr>\n",
       "      <th>Jul</th>\n",
       "      <td>227810</td>\n",
       "    </tr>\n",
       "    <tr>\n",
       "      <th>Aug</th>\n",
       "      <td>236757</td>\n",
       "    </tr>\n",
       "    <tr>\n",
       "      <th>Sep</th>\n",
       "      <td>193598</td>\n",
       "    </tr>\n",
       "    <tr>\n",
       "      <th>Oct</th>\n",
       "      <td>107415</td>\n",
       "    </tr>\n",
       "    <tr>\n",
       "      <th>Nov</th>\n",
       "      <td>85400</td>\n",
       "    </tr>\n",
       "    <tr>\n",
       "      <th>Dec</th>\n",
       "      <td>62588</td>\n",
       "    </tr>\n",
       "    <tr>\n",
       "      <th rowspan=\"12\" valign=\"top\">member</th>\n",
       "      <th>Jan</th>\n",
       "      <td>107167</td>\n",
       "    </tr>\n",
       "    <tr>\n",
       "      <th>Feb</th>\n",
       "      <td>93403</td>\n",
       "    </tr>\n",
       "    <tr>\n",
       "      <th>Mar</th>\n",
       "      <td>164438</td>\n",
       "    </tr>\n",
       "    <tr>\n",
       "      <th>Apr</th>\n",
       "      <td>195489</td>\n",
       "    </tr>\n",
       "    <tr>\n",
       "      <th>May</th>\n",
       "      <td>260364</td>\n",
       "    </tr>\n",
       "    <tr>\n",
       "      <th>Jun</th>\n",
       "      <td>210428</td>\n",
       "    </tr>\n",
       "    <tr>\n",
       "      <th>Jul</th>\n",
       "      <td>261605</td>\n",
       "    </tr>\n",
       "    <tr>\n",
       "      <th>Aug</th>\n",
       "      <td>284638</td>\n",
       "    </tr>\n",
       "    <tr>\n",
       "      <th>Sep</th>\n",
       "      <td>268586</td>\n",
       "    </tr>\n",
       "    <tr>\n",
       "      <th>Oct</th>\n",
       "      <td>197222</td>\n",
       "    </tr>\n",
       "    <tr>\n",
       "      <th>Nov</th>\n",
       "      <td>155269</td>\n",
       "    </tr>\n",
       "    <tr>\n",
       "      <th>Dec</th>\n",
       "      <td>127249</td>\n",
       "    </tr>\n",
       "  </tbody>\n",
       "</table>\n",
       "</div>"
      ],
      "text/plain": [
       "                      Month\n",
       "member_casual Month        \n",
       "casual        Jan     54534\n",
       "              Feb     57854\n",
       "              Mar    113341\n",
       "              Apr    129435\n",
       "              May    243296\n",
       "              Jun    169861\n",
       "              Jul    227810\n",
       "              Aug    236757\n",
       "              Sep    193598\n",
       "              Oct    107415\n",
       "              Nov     85400\n",
       "              Dec     62588\n",
       "member        Jan    107167\n",
       "              Feb     93403\n",
       "              Mar    164438\n",
       "              Apr    195489\n",
       "              May    260364\n",
       "              Jun    210428\n",
       "              Jul    261605\n",
       "              Aug    284638\n",
       "              Sep    268586\n",
       "              Oct    197222\n",
       "              Nov    155269\n",
       "              Dec    127249"
      ]
     },
     "execution_count": 98,
     "metadata": {},
     "output_type": "execute_result"
    }
   ],
   "source": [
    "months = [\"Jan\", \"Feb\", \"Mar\", \"Apr\", \"May\", \"Jun\", \"Jul\", \"Aug\", \"Sep\", \"Oct\", \"Nov\",\"Dec\"]\n",
    "highest_month = df_final.groupby([\"member_casual\"])['Month'].value_counts()\n",
    "pd.DataFrame(highest_month).reindex(index=months,level=1)"
   ]
  },
  {
   "cell_type": "code",
   "execution_count": 96,
   "metadata": {},
   "outputs": [
    {
     "data": {
      "text/plain": [
       "<matplotlib.axes._subplots.AxesSubplot at 0x2a29d57f5c8>"
      ]
     },
     "execution_count": 96,
     "metadata": {},
     "output_type": "execute_result"
    },
    {
     "data": {
      "image/png": "[encoded data removed]",
      "text/plain": [
       "<Figure size 720x432 with 1 Axes>"
      ]
     },
     "metadata": {
      "needs_background": "light"
     },
     "output_type": "display_data"
    }
   ],
   "source": [
    "plt.figure(figsize = (10,6))\n",
    "plt.title(\"Popular Riding Month - Member VS Casual\")\n",
    "sb.histplot(data = df_final , x = \"Month\" , hue = \"member_casual\")\n",
    "#lets hasve a look at the traffic of the members as well as casual riders based on months."
   ]
  },
  {
   "cell_type": "markdown",
   "metadata": {},
   "source": [
    "* Popular month for member riders is - AUGUST.\n",
    "* Popular month for Casual riders - MAY."
   ]
  },
  {
   "cell_type": "markdown",
   "metadata": {},
   "source": [
    "### POPULAR RIDING DAY - MEMBERS VS CASUALS"
   ]
  },
  {
   "cell_type": "code",
   "execution_count": 110,
   "metadata": {},
   "outputs": [
    {
     "data": {
      "text/plain": [
       "<matplotlib.axes._subplots.AxesSubplot at 0x2a29db9f648>"
      ]
     },
     "execution_count": 110,
     "metadata": {},
     "output_type": "execute_result"
    },
    {
     "data": {
      "image/png": "[encoded data removed]",
      "text/plain": [
       "<Figure size 1080x576 with 1 Axes>"
      ]
     },
     "metadata": {
      "needs_background": "light"
     },
     "output_type": "display_data"
    }
   ],
   "source": [
    "#lets hasve a look at the traffic of the members as well as casual riders based on days.\n",
    "days_week = ['Monday' , 'Tuesday' , 'Wednesday' , 'Thursday' , 'Friday' , 'Saturday','Sunday'  ]\n",
    "plt.figure(figsize = (15,8))\n",
    "plt.title(\"Popular riding day of the week- Member VS Casual\")\n",
    "sb.countplot(data = df_final , x = \"Day_of_Week\" , hue = \"member_casual\",palette = 'rainbow_r' , order = days_week)"
   ]
  },
  {
   "cell_type": "markdown",
   "metadata": {},
   "source": [
    "* usage is more on Weekends than weekdays.\n",
    "* more Casual riders are accessing the cyclists services on saturday. Even more than member riders."
   ]
  },
  {
   "cell_type": "markdown",
   "metadata": {},
   "source": [
    "## RIBEABLE TYPE COMPARISIONS"
   ]
  },
  {
   "cell_type": "markdown",
   "metadata": {},
   "source": [
    "### Most used Rideable_types"
   ]
  },
  {
   "cell_type": "code",
   "execution_count": 97,
   "metadata": {},
   "outputs": [
    {
     "data": {
      "text/html": [
       "<div>\n",
       "<style scoped>\n",
       "    .dataframe tbody tr th:only-of-type {\n",
       "        vertical-align: middle;\n",
       "    }\n",
       "\n",
       "    .dataframe tbody tr th {\n",
       "        vertical-align: top;\n",
       "    }\n",
       "\n",
       "    .dataframe thead th {\n",
       "        text-align: right;\n",
       "    }\n",
       "</style>\n",
       "<table border=\"1\" class=\"dataframe\">\n",
       "  <thead>\n",
       "    <tr style=\"text-align: right;\">\n",
       "      <th></th>\n",
       "      <th></th>\n",
       "      <th>rideable_type</th>\n",
       "    </tr>\n",
       "    <tr>\n",
       "      <th>member_casual</th>\n",
       "      <th>rideable_type</th>\n",
       "      <th></th>\n",
       "    </tr>\n",
       "  </thead>\n",
       "  <tbody>\n",
       "    <tr>\n",
       "      <th rowspan=\"3\" valign=\"top\">casual</th>\n",
       "      <th>docked_bike</th>\n",
       "      <td>1053906</td>\n",
       "    </tr>\n",
       "    <tr>\n",
       "      <th>electric_bike</th>\n",
       "      <td>365451</td>\n",
       "    </tr>\n",
       "    <tr>\n",
       "      <th>classic_bike</th>\n",
       "      <td>262532</td>\n",
       "    </tr>\n",
       "    <tr>\n",
       "      <th rowspan=\"3\" valign=\"top\">member</th>\n",
       "      <th>docked_bike</th>\n",
       "      <td>1245889</td>\n",
       "    </tr>\n",
       "    <tr>\n",
       "      <th>classic_bike</th>\n",
       "      <td>572119</td>\n",
       "    </tr>\n",
       "    <tr>\n",
       "      <th>electric_bike</th>\n",
       "      <td>507850</td>\n",
       "    </tr>\n",
       "  </tbody>\n",
       "</table>\n",
       "</div>"
      ],
      "text/plain": [
       "                             rideable_type\n",
       "member_casual rideable_type               \n",
       "casual        docked_bike          1053906\n",
       "              electric_bike         365451\n",
       "              classic_bike          262532\n",
       "member        docked_bike          1245889\n",
       "              classic_bike          572119\n",
       "              electric_bike         507850"
      ]
     },
     "execution_count": 97,
     "metadata": {},
     "output_type": "execute_result"
    }
   ],
   "source": [
    "rideable_type = df_final.groupby(\"member_casual\")['rideable_type'].value_counts()\n",
    "pd.DataFrame(rideable_type)"
   ]
  },
  {
   "cell_type": "code",
   "execution_count": 103,
   "metadata": {},
   "outputs": [
    {
     "data": {
      "text/plain": [
       "Text(0.5, 1.0, 'Rideable Type - Members vs Casuals')"
      ]
     },
     "execution_count": 103,
     "metadata": {},
     "output_type": "execute_result"
    },
    {
     "data": {
      "image/png": "[encoded data removed]",
      "text/plain": [
       "<Figure size 720x432 with 1 Axes>"
      ]
     },
     "metadata": {
      "needs_background": "light"
     },
     "output_type": "display_data"
    }
   ],
   "source": [
    "\n",
    "\n",
    "plt.figure(figsize = (10,6))\n",
    "\n",
    "sb.countplot(data = df_final, x = \"rideable_type\"  , hue = 'member_casual' , palette = 'rocket')\n",
    "\n",
    "\n",
    "plt.title('Rideable Type - Members vs Casuals')"
   ]
  },
  {
   "cell_type": "markdown",
   "metadata": {},
   "source": [
    "* Most used is the - Docked_Bike.\n",
    "* classic bike is the second highly used in member riders.\n",
    "* electric_bike is the second most used in casual riders."
   ]
  },
  {
   "cell_type": "code",
   "execution_count": 132,
   "metadata": {},
   "outputs": [
    {
     "data": {
      "text/html": [
       "<div>\n",
       "<style scoped>\n",
       "    .dataframe tbody tr th:only-of-type {\n",
       "        vertical-align: middle;\n",
       "    }\n",
       "\n",
       "    .dataframe tbody tr th {\n",
       "        vertical-align: top;\n",
       "    }\n",
       "\n",
       "    .dataframe thead th {\n",
       "        text-align: right;\n",
       "    }\n",
       "</style>\n",
       "<table border=\"1\" class=\"dataframe\">\n",
       "  <thead>\n",
       "    <tr style=\"text-align: right;\">\n",
       "      <th></th>\n",
       "      <th></th>\n",
       "      <th>Ride_Length_minute</th>\n",
       "    </tr>\n",
       "    <tr>\n",
       "      <th>member_casual</th>\n",
       "      <th>rideable_type</th>\n",
       "      <th></th>\n",
       "    </tr>\n",
       "  </thead>\n",
       "  <tbody>\n",
       "    <tr>\n",
       "      <th rowspan=\"3\" valign=\"top\">casual</th>\n",
       "      <th>classic_bike</th>\n",
       "      <td>28.285417</td>\n",
       "    </tr>\n",
       "    <tr>\n",
       "      <th>docked_bike</th>\n",
       "      <td>38.365078</td>\n",
       "    </tr>\n",
       "    <tr>\n",
       "      <th>electric_bike</th>\n",
       "      <td>21.950833</td>\n",
       "    </tr>\n",
       "    <tr>\n",
       "      <th rowspan=\"3\" valign=\"top\">member</th>\n",
       "      <th>classic_bike</th>\n",
       "      <td>14.173487</td>\n",
       "    </tr>\n",
       "    <tr>\n",
       "      <th>docked_bike</th>\n",
       "      <td>16.102054</td>\n",
       "    </tr>\n",
       "    <tr>\n",
       "      <th>electric_bike</th>\n",
       "      <td>13.602721</td>\n",
       "    </tr>\n",
       "  </tbody>\n",
       "</table>\n",
       "</div>"
      ],
      "text/plain": [
       "                             Ride_Length_minute\n",
       "member_casual rideable_type                    \n",
       "casual        classic_bike            28.285417\n",
       "              docked_bike             38.365078\n",
       "              electric_bike           21.950833\n",
       "member        classic_bike            14.173487\n",
       "              docked_bike             16.102054\n",
       "              electric_bike           13.602721"
      ]
     },
     "execution_count": 132,
     "metadata": {},
     "output_type": "execute_result"
    }
   ],
   "source": [
    "ride_mean = df_final.groupby([\"member_casual\" , \"rideable_type\"])[\"Ride_Length_minute\"].mean()\n",
    "pd.DataFrame(ride_mean)"
   ]
  },
  {
   "cell_type": "markdown",
   "metadata": {},
   "source": [
    "* The ride_length_minute for every rideable_type is almost double [just like ride_length for months]"
   ]
  },
  {
   "cell_type": "markdown",
   "metadata": {},
   "source": [
    "### MOST USED RIDEABLE TYPE BASED ON DAY - MEMBER VS CASUAL"
   ]
  },
  {
   "cell_type": "code",
   "execution_count": 102,
   "metadata": {},
   "outputs": [],
   "source": [
    "casual = df_final.loc[df_final['member_casual'] == 'casual']\n",
    "member = df_final.loc[df_final['member_casual'] == 'member']"
   ]
  },
  {
   "cell_type": "code",
   "execution_count": 104,
   "metadata": {},
   "outputs": [
    {
     "data": {
      "text/plain": [
       "<matplotlib.axes._subplots.AxesSubplot at 0x2a29d4c1fc8>"
      ]
     },
     "execution_count": 104,
     "metadata": {},
     "output_type": "execute_result"
    },
    {
     "data": {
      "image/png": "[encoded data removed]",
      "text/plain": [
       "<Figure size 1080x432 with 1 Axes>"
      ]
     },
     "metadata": {
      "needs_background": "light"
     },
     "output_type": "display_data"
    },
    {
     "data": {
      "image/png": "[encoded data removed]",
      "text/plain": [
       "<Figure size 1080x432 with 1 Axes>"
      ]
     },
     "metadata": {
      "needs_background": "light"
     },
     "output_type": "display_data"
    }
   ],
   "source": [
    "plt.figure(figsize = (15,6))\n",
    "plt.title(\"Causal Riders - Day of Week  VS Rideable Type \")\n",
    "sb.countplot(data = casual , x = \"Day_of_Week\" , hue = \"rideable_type\" , palette = \"CMRmap\" , order = days_week)\n",
    "\n",
    "plt.figure(figsize = (15,6))\n",
    "plt.title(\"Member Riders - Day of Week  VS Rideable Type \")\n",
    "sb.countplot(data = member , x = \"Day_of_Week\" , hue = \"rideable_type\" , palette = \"CMRmap\" , order = days_week)\n"
   ]
  },
  {
   "cell_type": "markdown",
   "metadata": {},
   "source": [
    "* Docked_bike the most used  - members & casuals.\n",
    "* Classic bikes second most used  - members.\n",
    "* electric_bikes second most used  - casuals."
   ]
  },
  {
   "cell_type": "markdown",
   "metadata": {},
   "source": [
    "### MOST USED RIDEABLE TYPE BASED ON MONTH - MEMBER VS CASUAL"
   ]
  },
  {
   "cell_type": "code",
   "execution_count": 105,
   "metadata": {},
   "outputs": [
    {
     "data": {
      "text/plain": [
       "<matplotlib.axes._subplots.AxesSubplot at 0x2a29d600288>"
      ]
     },
     "execution_count": 105,
     "metadata": {},
     "output_type": "execute_result"
    },
    {
     "data": {
      "image/png": "[encoded data removed]",
      "text/plain": [
       "<Figure size 1080x432 with 1 Axes>"
      ]
     },
     "metadata": {
      "needs_background": "light"
     },
     "output_type": "display_data"
    },
    {
     "data": {
      "image/png": "[encoded data removed]",
      "text/plain": [
       "<Figure size 1080x432 with 1 Axes>"
      ]
     },
     "metadata": {
      "needs_background": "light"
     },
     "output_type": "display_data"
    }
   ],
   "source": [
    "plt.figure(figsize = (15,6))\n",
    "plt.title(\"Casual Riders - Month  VS Rideable Type \")\n",
    "sb.countplot(data = casual , x = \"Month\" , hue = \"rideable_type\" , palette = \"CMRmap\")\n",
    "plt.figure(figsize = (15,6))\n",
    "plt.title(\"Member Riders - Month  VS Rideable Type \")\n",
    "sb.countplot(data = member , x = \"Month\" , hue = \"rideable_type\" , palette = \"CMRmap\" )\n"
   ]
  },
  {
   "cell_type": "markdown",
   "metadata": {},
   "source": [
    "#### Most Used\n",
    "* Docked bike- is the most used for almost all months - members and casuals both.\n",
    "\n",
    "#### Second most used\n",
    "* Classic bike most prefered in the months \"MARCH*\" , \"APRIL*\" , \"MAY*\" , \"DECEMBER\" , \"JAMUARY\" by Member riders.\n",
    "* Not much intresting in the casual riders side.\n",
    "\n",
    "* mostly JUNE , JULY , AUGUST have a peak in the riders for docked_bikes.\n"
   ]
  },
  {
   "cell_type": "markdown",
   "metadata": {},
   "source": [
    "### MOST USED RIDEABLE TYPE BASED ON MONTH - MEMBER VS CASUAL"
   ]
  },
  {
   "cell_type": "code",
   "execution_count": 106,
   "metadata": {},
   "outputs": [
    {
     "data": {
      "text/plain": [
       "<matplotlib.axes._subplots.AxesSubplot at 0x2a29db8ba08>"
      ]
     },
     "execution_count": 106,
     "metadata": {},
     "output_type": "execute_result"
    },
    {
     "data": {
      "image/png": "[encoded data removed]",
      "text/plain": [
       "<Figure size 1080x432 with 1 Axes>"
      ]
     },
     "metadata": {
      "needs_background": "light"
     },
     "output_type": "display_data"
    },
    {
     "data": {
      "image/png": "[encoded data removed]",
      "text/plain": [
       "<Figure size 1080x432 with 1 Axes>"
      ]
     },
     "metadata": {
      "needs_background": "light"
     },
     "output_type": "display_data"
    }
   ],
   "source": [
    "plt.figure(figsize = (15,6))\n",
    "plt.title(\"Casual Riders - Year  VS Rideable Type \")\n",
    "sb.countplot(data = casual , x = \"Year\" , hue = \"rideable_type\" , palette = \"rainbow\")\n",
    "plt.figure(figsize = (15,6))\n",
    "plt.title(\"Member Riders - Year  VS Rideable Type \")\n",
    "sb.countplot(data = member , x = \"Year\" , hue = \"rideable_type\" , palette = \"rainbow\")\n"
   ]
  },
  {
   "cell_type": "markdown",
   "metadata": {},
   "source": [
    "* Classic bike are booming in 2021 \n",
    "* docked_bikes are more used by casual riders than members.\n",
    "\n",
    "#### Note: the data is only upto MAY so cant conclude."
   ]
  },
  {
   "cell_type": "markdown",
   "metadata": {},
   "source": [
    "# CONCLUSION"
   ]
  },
  {
   "cell_type": "markdown",
   "metadata": {},
   "source": [
    "#### Done the comparision between Member Riders and casual Riders, and found many differences and intresting trends."
   ]
  },
  {
   "cell_type": "markdown",
   "metadata": {},
   "source": [
    "#### Why would casual riders buy Cyclistic annual memberships?\n",
    "* The Casual_riders AVERAGE ride_length is more than the Member_riders. We can use this to get the casual riders signup for the membership, Where they can be benifited more than the mmeber_riders."
   ]
  },
  {
   "cell_type": "markdown",
   "metadata": {},
   "source": [
    "* June , July and August Average ride lengths of the causual_riders are more than the overall year. Can add small offers to get them to signup for membership at Cyclist."
   ]
  },
  {
   "cell_type": "markdown",
   "metadata": {},
   "source": [
    "* Anouncing that members can have offers on Weekends can attract casuals as more casuals are riding on weekdays than weekends."
   ]
  },
  {
   "cell_type": "markdown",
   "metadata": {},
   "source": [
    "* Should focus on casual riders on months May,July and August as the usage is on peaks in that months"
   ]
  },
  {
   "cell_type": "markdown",
   "metadata": {},
   "source": [
    "#### How can Cyclistic use digital media to influence casual riders to become members?"
   ]
  },
  {
   "cell_type": "markdown",
   "metadata": {},
   "source": [
    "* Cyclist can push notifications to become a memebr of Cyclist to casual riders on the months of MAY, JULY and AUGUST as the usage is peak on those months."
   ]
  },
  {
   "cell_type": "markdown",
   "metadata": {},
   "source": [
    "* Should show how casual riders are missing out on membership features by showing the casual vs membership differences. "
   ]
  },
  {
   "cell_type": "markdown",
   "metadata": {},
   "source": [
    "* Can add small offers in the month June , July and August as the  Average ride_lengths of the causual_riders are more in those months and members aswell."
   ]
  }
 ],
 "metadata": {
  "kernelspec": {
   "display_name": "Python 3",
   "language": "python",
   "name": "python3"
  },
  "language_info": {
   "codemirror_mode": {
    "name": "ipython",
    "version": 3
   },
   "file_extension": ".py",
   "mimetype": "text/x-python",
   "name": "python",
   "nbconvert_exporter": "python",
   "pygments_lexer": "ipython3",
   "version": "3.7.6"
  }
 },
 "nbformat": 4,
 "nbformat_minor": 4
}
